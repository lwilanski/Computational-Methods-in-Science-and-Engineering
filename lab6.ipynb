{
 "cells": [
  {
   "cell_type": "code",
   "execution_count": 13,
   "id": "initial_id",
   "metadata": {
    "collapsed": true,
    "ExecuteTime": {
     "end_time": "2024-04-10T16:14:52.244718Z",
     "start_time": "2024-04-10T16:14:52.242180Z"
    }
   },
   "outputs": [],
   "source": [
    "import numpy as np\n",
    "from copy import deepcopy"
   ]
  },
  {
   "cell_type": "code",
   "outputs": [],
   "source": [
    "def power_method(A, max_iter=100000):\n",
    "    n = A.shape[0]\n",
    "    x = np.random.rand(n, 1)\n",
    "        \n",
    "    for i in range(max_iter):\n",
    "        x = x / np.linalg.norm(x)\n",
    "        x_next = A @ x\n",
    "        x_next = x_next / np.linalg.norm(x_next)\n",
    "        x = x_next\n",
    "    \n",
    "    return x / np.linalg.norm(x)"
   ],
   "metadata": {
    "collapsed": false,
    "ExecuteTime": {
     "end_time": "2024-04-10T16:14:52.387939Z",
     "start_time": "2024-04-10T16:14:52.384608Z"
    }
   },
   "id": "555b19e15273e2a5",
   "execution_count": 14
  },
  {
   "cell_type": "code",
   "outputs": [],
   "source": [
    "def generate_random_matrix(n):\n",
    "    return np.random.uniform(-1, 1, (n, n))"
   ],
   "metadata": {
    "collapsed": false,
    "ExecuteTime": {
     "end_time": "2024-04-10T16:14:52.519413Z",
     "start_time": "2024-04-10T16:14:52.516589Z"
    }
   },
   "id": "af251efba3bcf273",
   "execution_count": 15
  },
  {
   "cell_type": "code",
   "outputs": [],
   "source": [
    "def test_for_matrix(M):\n",
    "    m = deepcopy(M)\n",
    "    eigenvector1 = power_method(M)\n",
    "    \n",
    "    print(\"My algorithm: \", eigenvector1)\n",
    "    print(\"Library function: \", np.linalg.eig(m)[1][:, 0].real)"
   ],
   "metadata": {
    "collapsed": false,
    "ExecuteTime": {
     "end_time": "2024-04-10T16:14:52.705918Z",
     "start_time": "2024-04-10T16:14:52.700753Z"
    }
   },
   "id": "44829532cf0efe09",
   "execution_count": 16
  },
  {
   "cell_type": "code",
   "outputs": [],
   "source": [
    "A = np.array([[2, 1], [1, 2]])\n",
    "m1 = generate_random_matrix(5)\n",
    "m2 = generate_random_matrix(10)"
   ],
   "metadata": {
    "collapsed": false,
    "ExecuteTime": {
     "end_time": "2024-04-10T16:14:53.152386Z",
     "start_time": "2024-04-10T16:14:53.148993Z"
    }
   },
   "id": "93cc989a482c4bf7",
   "execution_count": 17
  },
  {
   "cell_type": "code",
   "outputs": [
    {
     "name": "stdout",
     "output_type": "stream",
     "text": [
      "My algorithm:  [[0.70710678]\n",
      " [0.70710678]]\n",
      "Library function:  [0.70710678 0.70710678]\n",
      "My algorithm:  [[-0.63712875]\n",
      " [ 0.54162446]\n",
      " [ 0.28285173]\n",
      " [-0.46643951]\n",
      " [-0.05602655]]\n",
      "Library function:  [ 0.63712875 -0.54162446 -0.28285173  0.46643951  0.05602655]\n",
      "My algorithm:  [[-0.20123394]\n",
      " [ 0.12772834]\n",
      " [ 0.09540211]\n",
      " [ 0.46141183]\n",
      " [-0.57590575]\n",
      " [-0.29079031]\n",
      " [-0.49489359]\n",
      " [-0.05694599]\n",
      " [ 0.09424099]\n",
      " [-0.21890093]]\n",
      "Library function:  [ 0.20123394 -0.12772834 -0.09540211 -0.46141183  0.57590575  0.29079031\n",
      "  0.49489359  0.05694599 -0.09424099  0.21890093]\n"
     ]
    }
   ],
   "source": [
    "test_for_matrix(A)\n",
    "test_for_matrix(m1)\n",
    "test_for_matrix(m2)"
   ],
   "metadata": {
    "collapsed": false,
    "ExecuteTime": {
     "end_time": "2024-04-10T16:14:54.616363Z",
     "start_time": "2024-04-10T16:14:53.327034Z"
    }
   },
   "id": "d97ab618b8435488",
   "execution_count": 18
  },
  {
   "cell_type": "code",
   "outputs": [],
   "source": [],
   "metadata": {
    "collapsed": false
   },
   "id": "f0e620209bc9f817"
  }
 ],
 "metadata": {
  "kernelspec": {
   "display_name": "Python 3",
   "language": "python",
   "name": "python3"
  },
  "language_info": {
   "codemirror_mode": {
    "name": "ipython",
    "version": 2
   },
   "file_extension": ".py",
   "mimetype": "text/x-python",
   "name": "python",
   "nbconvert_exporter": "python",
   "pygments_lexer": "ipython2",
   "version": "2.7.6"
  }
 },
 "nbformat": 4,
 "nbformat_minor": 5
}
